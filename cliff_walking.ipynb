{
 "cells": [
  {
   "cell_type": "code",
   "execution_count": 1,
   "id": "b2ba5c26",
   "metadata": {},
   "outputs": [
    {
     "name": "stdout",
     "output_type": "stream",
     "text": [
      "Requirement already satisfied: gymnasium in ./env/lib/python3.8/site-packages (0.27.1)\n",
      "Requirement already satisfied: box2d in ./env/lib/python3.8/site-packages (2.3.2)\n",
      "Requirement already satisfied: box2d-kengz in ./env/lib/python3.8/site-packages (2.3.3)\n",
      "Requirement already satisfied: pygame in ./env/lib/python3.8/site-packages (2.2.0)\n",
      "Requirement already satisfied: tqdm in ./env/lib/python3.8/site-packages (4.64.1)\n",
      "Requirement already satisfied: typing-extensions>=4.3.0 in ./env/lib/python3.8/site-packages (from gymnasium) (4.5.0)\n",
      "Requirement already satisfied: jax-jumpy>=0.2.0 in ./env/lib/python3.8/site-packages (from gymnasium) (0.2.0)\n",
      "Requirement already satisfied: numpy>=1.21.0 in ./env/lib/python3.8/site-packages (from gymnasium) (1.23.2)\n",
      "Requirement already satisfied: gymnasium-notices>=0.0.1 in ./env/lib/python3.8/site-packages (from gymnasium) (0.0.1)\n",
      "Requirement already satisfied: importlib-metadata>=4.8.0 in ./env/lib/python3.8/site-packages (from gymnasium) (6.0.0)\n",
      "Requirement already satisfied: cloudpickle>=1.2.0 in ./env/lib/python3.8/site-packages (from gymnasium) (2.2.1)\n",
      "Requirement already satisfied: zipp>=0.5 in ./env/lib/python3.8/site-packages (from importlib-metadata>=4.8.0->gymnasium) (3.15.0)\n",
      "Note: you may need to restart the kernel to use updated packages.\n"
     ]
    }
   ],
   "source": [
    "pip install gymnasium box2d box2d-kengz pygame tqdm"
   ]
  },
  {
   "cell_type": "code",
   "execution_count": 2,
   "id": "8b436adb",
   "metadata": {
    "scrolled": false
   },
   "outputs": [],
   "source": [
    "import gymnasium as gym\n",
    "import numpy as np\n",
    "\n",
    "from collections import defaultdict\n",
    "\n",
    "from tqdm import tqdm\n",
    "\n",
    "import pygame"
   ]
  },
  {
   "cell_type": "code",
   "execution_count": 3,
   "id": "bd06ee2d",
   "metadata": {},
   "outputs": [],
   "source": [
    "env = gym.make(\"CliffWalking-v0\")"
   ]
  },
  {
   "cell_type": "code",
   "execution_count": 4,
   "id": "e0cf2fb5",
   "metadata": {},
   "outputs": [],
   "source": [
    "class CliffWalkingAgent:\n",
    "    def __init__(\n",
    "        self,\n",
    "        learning_rate: float,\n",
    "        initial_exploration: float,\n",
    "        exploration_decay: float,\n",
    "        final_exploration: float,\n",
    "        discount_factor: float = 0.95,\n",
    "    ):\n",
    "        # Initialize Q-values\n",
    "        self.q_values = defaultdict(lambda: np.zeros(env.action_space.n))\n",
    "        \n",
    "        self.learning_rate = learning_rate\n",
    "        self.discount_factor = discount_factor\n",
    "\n",
    "        self.exploration = initial_exploration\n",
    "        self.exploration_decay = exploration_decay\n",
    "        self.final_exploration = final_exploration\n",
    "\n",
    "        self.training_error = []\n",
    "        \n",
    "\n",
    "    def get_action(self, state):\n",
    "        # with probability exploration return a random action to explore the environment\n",
    "        if np.random.random() < self.exploration:\n",
    "            return env.action_space.sample()\n",
    "\n",
    "        # with probability (1 - exploration), act greedily (exploit)\n",
    "        else:\n",
    "            return int(np.argmax(self.q_values[state]))\n",
    "\n",
    "\n",
    "    def update(\n",
    "        self,\n",
    "        state: int,\n",
    "        action: int,\n",
    "        reward: int,\n",
    "        terminated: bool,\n",
    "        truncated: bool,\n",
    "        next_state: int\n",
    "    ):\n",
    "        \n",
    "        future_q_value = (not terminated) * np.max(self.q_values[next_state])\n",
    "        temporal_difference = (\n",
    "            reward + self.discount_factor * future_q_value - self.q_values[state][action]\n",
    "        )\n",
    "\n",
    "        self.q_values[state][action] = (\n",
    "            self.q_values[state][action] + self.learning_rate * temporal_difference\n",
    "        )\n",
    "        self.training_error.append(temporal_difference)\n",
    "\n",
    "    def decay_exploration(self):\n",
    "        self.exploration = max(self.final_exploration, self.exploration - exploration_decay)"
   ]
  },
  {
   "cell_type": "code",
   "execution_count": 5,
   "id": "204a1e88",
   "metadata": {},
   "outputs": [
    {
     "name": "stderr",
     "output_type": "stream",
     "text": [
      "100%|██████████| 10000/10000 [00:18<00:00, 545.69it/s]\n"
     ]
    }
   ],
   "source": [
    "# learning_rate = 0.01\n",
    "# initial_exploration = 1.0\n",
    "# n_episodes = 100_000\n",
    "learning_rate = 0.1\n",
    "initial_exploration = 1.0\n",
    "n_episodes = 10_000\n",
    "exploration_decay = initial_exploration / (n_episodes / 2)  # reduce the exploration over time\n",
    "final_exploration = 0.1\n",
    "\n",
    "agent = CliffWalkingAgent(\n",
    "    learning_rate = learning_rate,\n",
    "    initial_exploration = initial_exploration,\n",
    "    exploration_decay = exploration_decay,\n",
    "    final_exploration = final_exploration\n",
    ")\n",
    "\n",
    "for episode in tqdm(range(n_episodes)):\n",
    "    state, info = env.reset()\n",
    "    done = False\n",
    "\n",
    "    while not done:\n",
    "        # use agent policy to pick an action, based on observation (state)\n",
    "        action = agent.get_action(state)\n",
    "\n",
    "        # enact the policy-selected action\n",
    "        next_state, reward, terminated, truncated, info = env.step(action)\n",
    "\n",
    "        # educate the policy with the result\n",
    "        agent.update(state, action, reward, terminated, truncated, next_state)\n",
    "\n",
    "        # update if the environment is done and the current obs\n",
    "        done = terminated or truncated\n",
    "        state = next_state\n",
    "\n",
    "    agent.decay_exploration()\n",
    "\n",
    "env.close()"
   ]
  },
  {
   "cell_type": "code",
   "execution_count": 6,
   "id": "f214f964",
   "metadata": {},
   "outputs": [],
   "source": [
    "env = gym.make(\"CliffWalking-v0\", render_mode=\"human\")\n",
    "state, info = env.reset()\n",
    "\n",
    "pygame.display.set_caption(\"CliffWalking-v0\")\n",
    "\n",
    "done = False\n",
    "energy = 25\n",
    "\n",
    "while not done:\n",
    "    # use agent policy to pick an action, based on observation (state)\n",
    "    action = agent.get_action(state)\n",
    "\n",
    "    # enact the policy-selected action\n",
    "    next_state, reward, terminated, truncated, info = env.step(action)\n",
    "    energy += reward\n",
    "\n",
    "    # update if the environment is done and the current obs\n",
    "    done = terminated or truncated or (energy == 0)\n",
    "    state = next_state\n",
    "  \n",
    "env.close()"
   ]
  },
  {
   "cell_type": "code",
   "execution_count": null,
   "id": "1dc2f059",
   "metadata": {},
   "outputs": [],
   "source": []
  }
 ],
 "metadata": {
  "kernelspec": {
   "display_name": "Python 3",
   "language": "python",
   "name": "python3"
  },
  "language_info": {
   "codemirror_mode": {
    "name": "ipython",
    "version": 3
   },
   "file_extension": ".py",
   "mimetype": "text/x-python",
   "name": "python",
   "nbconvert_exporter": "python",
   "pygments_lexer": "ipython3",
   "version": "3.8.16"
  },
  "vscode": {
   "interpreter": {
    "hash": "c2bb3f097e0a26b94ae04f4b14297750ffab934255d8bb202962cff0f948b655"
   }
  }
 },
 "nbformat": 4,
 "nbformat_minor": 5
}
